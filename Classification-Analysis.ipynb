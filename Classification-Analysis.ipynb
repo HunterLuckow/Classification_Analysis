{
 "cells": [
  {
   "cell_type": "code",
   "execution_count": 1,
   "metadata": {},
   "outputs": [],
   "source": [
    "# Import Libraries.\n",
    "import pandas as pd\n",
    "import numpy as np"
   ]
  },
  {
   "cell_type": "markdown",
   "metadata": {},
   "source": [
    "# Understanding the Dataset"
   ]
  },
  {
   "cell_type": "code",
   "execution_count": 2,
   "metadata": {},
   "outputs": [],
   "source": [
    "# Read in the dataset.\n",
    "df = pd.read_csv('Churn_Data copy.csv')"
   ]
  },
  {
   "cell_type": "code",
   "execution_count": 3,
   "metadata": {},
   "outputs": [
    {
     "data": {
      "text/plain": [
       "(14000, 13)"
      ]
     },
     "metadata": {},
     "output_type": "display_data"
    },
    {
     "data": {
      "text/html": [
       "<div>\n",
       "<style scoped>\n",
       "    .dataframe tbody tr th:only-of-type {\n",
       "        vertical-align: middle;\n",
       "    }\n",
       "\n",
       "    .dataframe tbody tr th {\n",
       "        vertical-align: top;\n",
       "    }\n",
       "\n",
       "    .dataframe thead th {\n",
       "        text-align: right;\n",
       "    }\n",
       "</style>\n",
       "<table border=\"1\" class=\"dataframe\">\n",
       "  <thead>\n",
       "    <tr style=\"text-align: right;\">\n",
       "      <th></th>\n",
       "      <th>CUSTID</th>\n",
       "      <th>COLLEGE</th>\n",
       "      <th>INCOME</th>\n",
       "      <th>OVERAGE</th>\n",
       "      <th>LEFTOVER</th>\n",
       "      <th>HOUSE</th>\n",
       "      <th>HANDSET_PRICE</th>\n",
       "      <th>OVER_15MINS_CALLS_PER_MONTH</th>\n",
       "      <th>AVERAGE_CALL_DURATION</th>\n",
       "      <th>REPORTED_SATISFACTION</th>\n",
       "      <th>REPORTED_USAGE_LEVEL</th>\n",
       "      <th>CONSIDERING_CHANGE_OF_PLAN</th>\n",
       "      <th>LEAVE</th>\n",
       "    </tr>\n",
       "  </thead>\n",
       "  <tbody>\n",
       "    <tr>\n",
       "      <th>0</th>\n",
       "      <td>1</td>\n",
       "      <td>zero</td>\n",
       "      <td>31953</td>\n",
       "      <td>0</td>\n",
       "      <td>6</td>\n",
       "      <td>313378</td>\n",
       "      <td>161</td>\n",
       "      <td>0</td>\n",
       "      <td>4</td>\n",
       "      <td>unsat</td>\n",
       "      <td>little</td>\n",
       "      <td>no</td>\n",
       "      <td>STAY</td>\n",
       "    </tr>\n",
       "    <tr>\n",
       "      <th>1</th>\n",
       "      <td>2</td>\n",
       "      <td>one</td>\n",
       "      <td>36147</td>\n",
       "      <td>0</td>\n",
       "      <td>13</td>\n",
       "      <td>800586</td>\n",
       "      <td>244</td>\n",
       "      <td>0</td>\n",
       "      <td>6</td>\n",
       "      <td>unsat</td>\n",
       "      <td>little</td>\n",
       "      <td>considering</td>\n",
       "      <td>STAY</td>\n",
       "    </tr>\n",
       "    <tr>\n",
       "      <th>2</th>\n",
       "      <td>3</td>\n",
       "      <td>one</td>\n",
       "      <td>27273</td>\n",
       "      <td>230</td>\n",
       "      <td>0</td>\n",
       "      <td>305049</td>\n",
       "      <td>201</td>\n",
       "      <td>16</td>\n",
       "      <td>15</td>\n",
       "      <td>unsat</td>\n",
       "      <td>very_little</td>\n",
       "      <td>perhaps</td>\n",
       "      <td>STAY</td>\n",
       "    </tr>\n",
       "    <tr>\n",
       "      <th>3</th>\n",
       "      <td>5</td>\n",
       "      <td>one</td>\n",
       "      <td>29215</td>\n",
       "      <td>208</td>\n",
       "      <td>85</td>\n",
       "      <td>224784</td>\n",
       "      <td>241</td>\n",
       "      <td>21</td>\n",
       "      <td>1</td>\n",
       "      <td>very_unsat</td>\n",
       "      <td>little</td>\n",
       "      <td>never_thought</td>\n",
       "      <td>STAY</td>\n",
       "    </tr>\n",
       "    <tr>\n",
       "      <th>4</th>\n",
       "      <td>6</td>\n",
       "      <td>zero</td>\n",
       "      <td>133728</td>\n",
       "      <td>64</td>\n",
       "      <td>48</td>\n",
       "      <td>632969</td>\n",
       "      <td>626</td>\n",
       "      <td>3</td>\n",
       "      <td>2</td>\n",
       "      <td>unsat</td>\n",
       "      <td>high</td>\n",
       "      <td>no</td>\n",
       "      <td>STAY</td>\n",
       "    </tr>\n",
       "    <tr>\n",
       "      <th>5</th>\n",
       "      <td>7</td>\n",
       "      <td>zero</td>\n",
       "      <td>42052</td>\n",
       "      <td>224</td>\n",
       "      <td>0</td>\n",
       "      <td>697949</td>\n",
       "      <td>191</td>\n",
       "      <td>10</td>\n",
       "      <td>5</td>\n",
       "      <td>very_unsat</td>\n",
       "      <td>little</td>\n",
       "      <td>actively_looking_into_it</td>\n",
       "      <td>STAY</td>\n",
       "    </tr>\n",
       "    <tr>\n",
       "      <th>6</th>\n",
       "      <td>9</td>\n",
       "      <td>zero</td>\n",
       "      <td>38171</td>\n",
       "      <td>0</td>\n",
       "      <td>7</td>\n",
       "      <td>274218</td>\n",
       "      <td>190</td>\n",
       "      <td>0</td>\n",
       "      <td>5</td>\n",
       "      <td>very_sat</td>\n",
       "      <td>little</td>\n",
       "      <td>actively_looking_into_it</td>\n",
       "      <td>STAY</td>\n",
       "    </tr>\n",
       "    <tr>\n",
       "      <th>7</th>\n",
       "      <td>10</td>\n",
       "      <td>zero</td>\n",
       "      <td>105824</td>\n",
       "      <td>174</td>\n",
       "      <td>18</td>\n",
       "      <td>153560</td>\n",
       "      <td>687</td>\n",
       "      <td>25</td>\n",
       "      <td>4</td>\n",
       "      <td>very_sat</td>\n",
       "      <td>little</td>\n",
       "      <td>never_thought</td>\n",
       "      <td>LEAVE</td>\n",
       "    </tr>\n",
       "    <tr>\n",
       "      <th>8</th>\n",
       "      <td>11</td>\n",
       "      <td>zero</td>\n",
       "      <td>20120</td>\n",
       "      <td>43</td>\n",
       "      <td>0</td>\n",
       "      <td>623166</td>\n",
       "      <td>209</td>\n",
       "      <td>5</td>\n",
       "      <td>8</td>\n",
       "      <td>very_sat</td>\n",
       "      <td>little</td>\n",
       "      <td>never_thought</td>\n",
       "      <td>STAY</td>\n",
       "    </tr>\n",
       "    <tr>\n",
       "      <th>9</th>\n",
       "      <td>12</td>\n",
       "      <td>one</td>\n",
       "      <td>50939</td>\n",
       "      <td>76</td>\n",
       "      <td>13</td>\n",
       "      <td>587207</td>\n",
       "      <td>336</td>\n",
       "      <td>3</td>\n",
       "      <td>5</td>\n",
       "      <td>avg</td>\n",
       "      <td>little</td>\n",
       "      <td>considering</td>\n",
       "      <td>STAY</td>\n",
       "    </tr>\n",
       "  </tbody>\n",
       "</table>\n",
       "</div>"
      ],
      "text/plain": [
       "   CUSTID COLLEGE  INCOME  OVERAGE  LEFTOVER   HOUSE  HANDSET_PRICE  \\\n",
       "0       1    zero   31953        0         6  313378            161   \n",
       "1       2     one   36147        0        13  800586            244   \n",
       "2       3     one   27273      230         0  305049            201   \n",
       "3       5     one   29215      208        85  224784            241   \n",
       "4       6    zero  133728       64        48  632969            626   \n",
       "5       7    zero   42052      224         0  697949            191   \n",
       "6       9    zero   38171        0         7  274218            190   \n",
       "7      10    zero  105824      174        18  153560            687   \n",
       "8      11    zero   20120       43         0  623166            209   \n",
       "9      12     one   50939       76        13  587207            336   \n",
       "\n",
       "   OVER_15MINS_CALLS_PER_MONTH  AVERAGE_CALL_DURATION REPORTED_SATISFACTION  \\\n",
       "0                            0                      4                 unsat   \n",
       "1                            0                      6                 unsat   \n",
       "2                           16                     15                 unsat   \n",
       "3                           21                      1            very_unsat   \n",
       "4                            3                      2                 unsat   \n",
       "5                           10                      5            very_unsat   \n",
       "6                            0                      5              very_sat   \n",
       "7                           25                      4              very_sat   \n",
       "8                            5                      8              very_sat   \n",
       "9                            3                      5                   avg   \n",
       "\n",
       "  REPORTED_USAGE_LEVEL CONSIDERING_CHANGE_OF_PLAN  LEAVE  \n",
       "0               little                         no   STAY  \n",
       "1               little                considering   STAY  \n",
       "2          very_little                    perhaps   STAY  \n",
       "3               little              never_thought   STAY  \n",
       "4                 high                         no   STAY  \n",
       "5               little   actively_looking_into_it   STAY  \n",
       "6               little   actively_looking_into_it   STAY  \n",
       "7               little              never_thought  LEAVE  \n",
       "8               little              never_thought   STAY  \n",
       "9               little                considering   STAY  "
      ]
     },
     "metadata": {},
     "output_type": "display_data"
    }
   ],
   "source": [
    "display(df.shape)\n",
    "display(df.head(10))"
   ]
  },
  {
   "cell_type": "code",
   "execution_count": 4,
   "metadata": {},
   "outputs": [
    {
     "data": {
      "text/plain": [
       "STAY     7104\n",
       "LEAVE    6896\n",
       "Name: LEAVE, dtype: int64"
      ]
     },
     "execution_count": 4,
     "metadata": {},
     "output_type": "execute_result"
    }
   ],
   "source": [
    "df['LEAVE'].value_counts()"
   ]
  },
  {
   "cell_type": "markdown",
   "metadata": {},
   "source": [
    "# Data Preparation and Transformation"
   ]
  },
  {
   "cell_type": "markdown",
   "metadata": {},
   "source": [
    "#### Target Variable"
   ]
  },
  {
   "cell_type": "code",
   "execution_count": 5,
   "metadata": {},
   "outputs": [],
   "source": [
    "# Use LabelEncoder to convert target variable values to numerical values (0 or 1).\n",
    "from sklearn.preprocessing import LabelEncoder\n",
    "\n",
    "le = LabelEncoder()\n",
    "df['LEAVE'] = le.fit_transform(df['LEAVE'])\n",
    "\n",
    "# Create dataset to be used for modeling. \n",
    "df_clean = pd.DataFrame(df[['LEAVE', 'CUSTID']])"
   ]
  },
  {
   "cell_type": "code",
   "execution_count": 6,
   "metadata": {},
   "outputs": [],
   "source": [
    "#display(df.head())\n",
    "#display(df_clean.head())"
   ]
  },
  {
   "cell_type": "markdown",
   "metadata": {},
   "source": [
    "#### Boolean Variables"
   ]
  },
  {
   "cell_type": "code",
   "execution_count": 7,
   "metadata": {},
   "outputs": [],
   "source": [
    "df['COLLEGE'] = df['COLLEGE'].map({'one': 1, 'zero': 0})\n",
    "df_clean = df_clean.join(df['COLLEGE'])"
   ]
  },
  {
   "cell_type": "code",
   "execution_count": 8,
   "metadata": {},
   "outputs": [],
   "source": [
    "#display(df.head())\n",
    "#display(df_clean.head())"
   ]
  },
  {
   "cell_type": "markdown",
   "metadata": {},
   "source": [
    "#### Categorical Variables"
   ]
  },
  {
   "cell_type": "code",
   "execution_count": 9,
   "metadata": {},
   "outputs": [],
   "source": [
    "# Create dummy variables for categorical features.\n",
    "catVals = ['REPORTED_SATISFACTION', 'REPORTED_USAGE_LEVEL', 'CONSIDERING_CHANGE_OF_PLAN']\n",
    "dummies = pd.get_dummies(df[catVals], drop_first=True)\n",
    "\n",
    "df_clean = df_clean.join(dummies)"
   ]
  },
  {
   "cell_type": "code",
   "execution_count": 10,
   "metadata": {},
   "outputs": [],
   "source": [
    "#display(df.head())\n",
    "#display(df_clean.head())\n",
    "#display(df_clean.shape)"
   ]
  },
  {
   "cell_type": "markdown",
   "metadata": {},
   "source": [
    "#### Numerical Variables"
   ]
  },
  {
   "cell_type": "code",
   "execution_count": 11,
   "metadata": {},
   "outputs": [],
   "source": [
    "# StandardScaler() computes Z-scores. Transform data such that its distribution will have a mean of 0 and standard \n",
    "# deviation of 1.\n",
    "# Apply to all numerical columns.\n",
    "from sklearn.preprocessing import StandardScaler\n",
    "\n",
    "col_names = df.columns[2:9]\n",
    "numVals = df.loc[:,'INCOME':'AVERAGE_CALL_DURATION']\n",
    "scaler = StandardScaler()\n",
    "stdVals = pd.DataFrame(scaler.fit_transform(numVals))\n",
    "stdVals.columns = col_names"
   ]
  },
  {
   "cell_type": "code",
   "execution_count": 12,
   "metadata": {},
   "outputs": [],
   "source": [
    "df_clean = df_clean.join(stdVals)"
   ]
  },
  {
   "cell_type": "code",
   "execution_count": 13,
   "metadata": {},
   "outputs": [
    {
     "data": {
      "text/html": [
       "<div>\n",
       "<style scoped>\n",
       "    .dataframe tbody tr th:only-of-type {\n",
       "        vertical-align: middle;\n",
       "    }\n",
       "\n",
       "    .dataframe tbody tr th {\n",
       "        vertical-align: top;\n",
       "    }\n",
       "\n",
       "    .dataframe thead th {\n",
       "        text-align: right;\n",
       "    }\n",
       "</style>\n",
       "<table border=\"1\" class=\"dataframe\">\n",
       "  <thead>\n",
       "    <tr style=\"text-align: right;\">\n",
       "      <th></th>\n",
       "      <th>LEAVE</th>\n",
       "      <th>CUSTID</th>\n",
       "      <th>COLLEGE</th>\n",
       "      <th>REPORTED_SATISFACTION_sat</th>\n",
       "      <th>REPORTED_SATISFACTION_unsat</th>\n",
       "      <th>REPORTED_SATISFACTION_very_sat</th>\n",
       "      <th>REPORTED_SATISFACTION_very_unsat</th>\n",
       "      <th>REPORTED_USAGE_LEVEL_high</th>\n",
       "      <th>REPORTED_USAGE_LEVEL_little</th>\n",
       "      <th>REPORTED_USAGE_LEVEL_very_high</th>\n",
       "      <th>...</th>\n",
       "      <th>CONSIDERING_CHANGE_OF_PLAN_never_thought</th>\n",
       "      <th>CONSIDERING_CHANGE_OF_PLAN_no</th>\n",
       "      <th>CONSIDERING_CHANGE_OF_PLAN_perhaps</th>\n",
       "      <th>INCOME</th>\n",
       "      <th>OVERAGE</th>\n",
       "      <th>LEFTOVER</th>\n",
       "      <th>HOUSE</th>\n",
       "      <th>HANDSET_PRICE</th>\n",
       "      <th>OVER_15MINS_CALLS_PER_MONTH</th>\n",
       "      <th>AVERAGE_CALL_DURATION</th>\n",
       "    </tr>\n",
       "  </thead>\n",
       "  <tbody>\n",
       "    <tr>\n",
       "      <th>0</th>\n",
       "      <td>1</td>\n",
       "      <td>1</td>\n",
       "      <td>0</td>\n",
       "      <td>0</td>\n",
       "      <td>1</td>\n",
       "      <td>0</td>\n",
       "      <td>0</td>\n",
       "      <td>0</td>\n",
       "      <td>1</td>\n",
       "      <td>0</td>\n",
       "      <td>...</td>\n",
       "      <td>0</td>\n",
       "      <td>1</td>\n",
       "      <td>0</td>\n",
       "      <td>-1.155877</td>\n",
       "      <td>-0.998969</td>\n",
       "      <td>-0.668289</td>\n",
       "      <td>-0.715088</td>\n",
       "      <td>-1.066728</td>\n",
       "      <td>-0.894694</td>\n",
       "      <td>-0.457388</td>\n",
       "    </tr>\n",
       "    <tr>\n",
       "      <th>1</th>\n",
       "      <td>1</td>\n",
       "      <td>2</td>\n",
       "      <td>1</td>\n",
       "      <td>0</td>\n",
       "      <td>1</td>\n",
       "      <td>0</td>\n",
       "      <td>0</td>\n",
       "      <td>0</td>\n",
       "      <td>1</td>\n",
       "      <td>0</td>\n",
       "      <td>...</td>\n",
       "      <td>0</td>\n",
       "      <td>0</td>\n",
       "      <td>0</td>\n",
       "      <td>-1.055255</td>\n",
       "      <td>-0.998969</td>\n",
       "      <td>-0.407784</td>\n",
       "      <td>1.210287</td>\n",
       "      <td>-0.679422</td>\n",
       "      <td>-0.894694</td>\n",
       "      <td>-0.004817</td>\n",
       "    </tr>\n",
       "    <tr>\n",
       "      <th>2</th>\n",
       "      <td>1</td>\n",
       "      <td>3</td>\n",
       "      <td>1</td>\n",
       "      <td>0</td>\n",
       "      <td>1</td>\n",
       "      <td>0</td>\n",
       "      <td>0</td>\n",
       "      <td>0</td>\n",
       "      <td>0</td>\n",
       "      <td>0</td>\n",
       "      <td>...</td>\n",
       "      <td>0</td>\n",
       "      <td>0</td>\n",
       "      <td>1</td>\n",
       "      <td>-1.268160</td>\n",
       "      <td>1.672415</td>\n",
       "      <td>-0.891579</td>\n",
       "      <td>-0.748003</td>\n",
       "      <td>-0.880074</td>\n",
       "      <td>0.892460</td>\n",
       "      <td>2.031755</td>\n",
       "    </tr>\n",
       "    <tr>\n",
       "      <th>3</th>\n",
       "      <td>1</td>\n",
       "      <td>5</td>\n",
       "      <td>1</td>\n",
       "      <td>0</td>\n",
       "      <td>0</td>\n",
       "      <td>0</td>\n",
       "      <td>1</td>\n",
       "      <td>0</td>\n",
       "      <td>1</td>\n",
       "      <td>0</td>\n",
       "      <td>...</td>\n",
       "      <td>1</td>\n",
       "      <td>0</td>\n",
       "      <td>0</td>\n",
       "      <td>-1.221568</td>\n",
       "      <td>1.416891</td>\n",
       "      <td>2.271697</td>\n",
       "      <td>-1.065198</td>\n",
       "      <td>-0.693421</td>\n",
       "      <td>1.450945</td>\n",
       "      <td>-1.136245</td>\n",
       "    </tr>\n",
       "    <tr>\n",
       "      <th>4</th>\n",
       "      <td>1</td>\n",
       "      <td>6</td>\n",
       "      <td>0</td>\n",
       "      <td>0</td>\n",
       "      <td>1</td>\n",
       "      <td>0</td>\n",
       "      <td>0</td>\n",
       "      <td>1</td>\n",
       "      <td>0</td>\n",
       "      <td>0</td>\n",
       "      <td>...</td>\n",
       "      <td>0</td>\n",
       "      <td>1</td>\n",
       "      <td>0</td>\n",
       "      <td>1.285912</td>\n",
       "      <td>-0.255627</td>\n",
       "      <td>0.894742</td>\n",
       "      <td>0.547889</td>\n",
       "      <td>1.103122</td>\n",
       "      <td>-0.559603</td>\n",
       "      <td>-0.909959</td>\n",
       "    </tr>\n",
       "  </tbody>\n",
       "</table>\n",
       "<p>5 rows × 22 columns</p>\n",
       "</div>"
      ],
      "text/plain": [
       "   LEAVE  CUSTID  COLLEGE  REPORTED_SATISFACTION_sat  \\\n",
       "0      1       1        0                          0   \n",
       "1      1       2        1                          0   \n",
       "2      1       3        1                          0   \n",
       "3      1       5        1                          0   \n",
       "4      1       6        0                          0   \n",
       "\n",
       "   REPORTED_SATISFACTION_unsat  REPORTED_SATISFACTION_very_sat  \\\n",
       "0                            1                               0   \n",
       "1                            1                               0   \n",
       "2                            1                               0   \n",
       "3                            0                               0   \n",
       "4                            1                               0   \n",
       "\n",
       "   REPORTED_SATISFACTION_very_unsat  REPORTED_USAGE_LEVEL_high  \\\n",
       "0                                 0                          0   \n",
       "1                                 0                          0   \n",
       "2                                 0                          0   \n",
       "3                                 1                          0   \n",
       "4                                 0                          1   \n",
       "\n",
       "   REPORTED_USAGE_LEVEL_little  REPORTED_USAGE_LEVEL_very_high  ...  \\\n",
       "0                            1                               0  ...   \n",
       "1                            1                               0  ...   \n",
       "2                            0                               0  ...   \n",
       "3                            1                               0  ...   \n",
       "4                            0                               0  ...   \n",
       "\n",
       "   CONSIDERING_CHANGE_OF_PLAN_never_thought  CONSIDERING_CHANGE_OF_PLAN_no  \\\n",
       "0                                         0                              1   \n",
       "1                                         0                              0   \n",
       "2                                         0                              0   \n",
       "3                                         1                              0   \n",
       "4                                         0                              1   \n",
       "\n",
       "   CONSIDERING_CHANGE_OF_PLAN_perhaps    INCOME   OVERAGE  LEFTOVER     HOUSE  \\\n",
       "0                                   0 -1.155877 -0.998969 -0.668289 -0.715088   \n",
       "1                                   0 -1.055255 -0.998969 -0.407784  1.210287   \n",
       "2                                   1 -1.268160  1.672415 -0.891579 -0.748003   \n",
       "3                                   0 -1.221568  1.416891  2.271697 -1.065198   \n",
       "4                                   0  1.285912 -0.255627  0.894742  0.547889   \n",
       "\n",
       "   HANDSET_PRICE  OVER_15MINS_CALLS_PER_MONTH  AVERAGE_CALL_DURATION  \n",
       "0      -1.066728                    -0.894694              -0.457388  \n",
       "1      -0.679422                    -0.894694              -0.004817  \n",
       "2      -0.880074                     0.892460               2.031755  \n",
       "3      -0.693421                     1.450945              -1.136245  \n",
       "4       1.103122                    -0.559603              -0.909959  \n",
       "\n",
       "[5 rows x 22 columns]"
      ]
     },
     "metadata": {},
     "output_type": "display_data"
    },
    {
     "data": {
      "text/plain": [
       "(14000, 22)"
      ]
     },
     "metadata": {},
     "output_type": "display_data"
    },
    {
     "data": {
      "text/plain": [
       "Index(['LEAVE', 'CUSTID', 'COLLEGE', 'REPORTED_SATISFACTION_sat',\n",
       "       'REPORTED_SATISFACTION_unsat', 'REPORTED_SATISFACTION_very_sat',\n",
       "       'REPORTED_SATISFACTION_very_unsat', 'REPORTED_USAGE_LEVEL_high',\n",
       "       'REPORTED_USAGE_LEVEL_little', 'REPORTED_USAGE_LEVEL_very_high',\n",
       "       'REPORTED_USAGE_LEVEL_very_little',\n",
       "       'CONSIDERING_CHANGE_OF_PLAN_considering',\n",
       "       'CONSIDERING_CHANGE_OF_PLAN_never_thought',\n",
       "       'CONSIDERING_CHANGE_OF_PLAN_no', 'CONSIDERING_CHANGE_OF_PLAN_perhaps',\n",
       "       'INCOME', 'OVERAGE', 'LEFTOVER', 'HOUSE', 'HANDSET_PRICE',\n",
       "       'OVER_15MINS_CALLS_PER_MONTH', 'AVERAGE_CALL_DURATION'],\n",
       "      dtype='object')"
      ]
     },
     "metadata": {},
     "output_type": "display_data"
    }
   ],
   "source": [
    "display(df_clean.head())\n",
    "display(df_clean.shape)\n",
    "display(df_clean.columns)"
   ]
  },
  {
   "cell_type": "markdown",
   "metadata": {},
   "source": [
    "# Partitioning the dataset"
   ]
  },
  {
   "cell_type": "code",
   "execution_count": 14,
   "metadata": {},
   "outputs": [],
   "source": [
    "X, Y = df_clean.loc[:,'COLLEGE':], df_clean.loc[:,'LEAVE']"
   ]
  },
  {
   "cell_type": "code",
   "execution_count": 15,
   "metadata": {},
   "outputs": [
    {
     "name": "stdout",
     "output_type": "stream",
     "text": [
      "(11200, 20)\n",
      "(2800, 20)\n"
     ]
    }
   ],
   "source": [
    "from sklearn.model_selection import train_test_split\n",
    "X_train, X_test, Y_train, Y_test = train_test_split(X, Y, test_size = 0.20, random_state = 7)\n",
    "print(X_train.shape)\n",
    "print(X_test.shape)"
   ]
  },
  {
   "cell_type": "code",
   "execution_count": 16,
   "metadata": {},
   "outputs": [],
   "source": [
    "#Y_train"
   ]
  },
  {
   "cell_type": "markdown",
   "metadata": {},
   "source": [
    "# CART Decision Tree Classifier"
   ]
  },
  {
   "cell_type": "code",
   "execution_count": 17,
   "metadata": {},
   "outputs": [],
   "source": [
    "# stratify = y led to a lower accuracy rate"
   ]
  },
  {
   "cell_type": "code",
   "execution_count": 18,
   "metadata": {},
   "outputs": [],
   "source": [
    "from sklearn.tree import DecisionTreeClassifier\n",
    "\n",
    "# A CART decision tree built using the training data set.\n",
    "cart01 = DecisionTreeClassifier(criterion = \"gini\", \n",
    "            max_leaf_nodes = 20).fit(X_train, Y_train)"
   ]
  },
  {
   "cell_type": "code",
   "execution_count": 19,
   "metadata": {},
   "outputs": [
    {
     "data": {
      "text/plain": [
       "70.25"
      ]
     },
     "execution_count": 19,
     "metadata": {},
     "output_type": "execute_result"
    }
   ],
   "source": [
    "from sklearn.metrics import accuracy_score\n",
    "\n",
    "# Predict the outcome for the test data.\n",
    "pred_test = cart01.predict(X_test)\n",
    "\n",
    "# Compute the accuracy rate. \n",
    "accuracy_score(pred_test, Y_test)*100"
   ]
  },
  {
   "cell_type": "code",
   "execution_count": 20,
   "metadata": {},
   "outputs": [
    {
     "data": {
      "text/plain": [
       "70.25"
      ]
     },
     "execution_count": 20,
     "metadata": {},
     "output_type": "execute_result"
    }
   ],
   "source": [
    "# Another method to compute accuracy rate. \n",
    "(pred_test == Y_test).mean()*100"
   ]
  },
  {
   "cell_type": "markdown",
   "metadata": {},
   "source": [
    "# Random Forest Classifier"
   ]
  },
  {
   "cell_type": "code",
   "execution_count": 21,
   "metadata": {},
   "outputs": [],
   "source": [
    "from sklearn.ensemble import RandomForestClassifier\n",
    "\n",
    "# Create the Random Forest model.\n",
    "rf = RandomForestClassifier(n_estimators = 100, \n",
    "                    criterion = 'gini').fit(X_train, Y_train)"
   ]
  },
  {
   "cell_type": "code",
   "execution_count": 22,
   "metadata": {},
   "outputs": [
    {
     "data": {
      "text/plain": [
       "70.10714285714286"
      ]
     },
     "execution_count": 22,
     "metadata": {},
     "output_type": "execute_result"
    }
   ],
   "source": [
    "# Predict the outcome for the test data.\n",
    "pred_test1 = rf.predict(X_test)\n",
    "\n",
    "# Compute the accuracy rate.\n",
    "accuracy_score(pred_test1, Y_test)*100"
   ]
  },
  {
   "cell_type": "markdown",
   "metadata": {},
   "source": [
    "# MLP (Multi-Layer Perceptron) Classifier"
   ]
  },
  {
   "cell_type": "code",
   "execution_count": 23,
   "metadata": {},
   "outputs": [
    {
     "data": {
      "text/plain": [
       "68.10714285714286"
      ]
     },
     "execution_count": 23,
     "metadata": {},
     "output_type": "execute_result"
    }
   ],
   "source": [
    "from sklearn.neural_network import MLPClassifier\n",
    "\n",
    "# Train the MLPClassifier using the training data.\n",
    "mlp = MLPClassifier(solver = 'lbfgs', alpha = 1e-5, activation = 'logistic', \n",
    "                      hidden_layer_sizes = (10,), random_state = 7, \n",
    "                      max_iter = 6000)\n",
    "\n",
    "# Fit the training data to the MLPClassifier.\n",
    "mlp.fit(X_train, Y_train)\n",
    "\n",
    "# Predict the outcome for the test data.\n",
    "pred_test2 = mlp.predict(X_test)\n",
    "\n",
    "# Compute the accuracy rate. \n",
    "accuracy_score(pred_test2, Y_test)*100"
   ]
  },
  {
   "cell_type": "code",
   "execution_count": null,
   "metadata": {},
   "outputs": [],
   "source": []
  }
 ],
 "metadata": {
  "kernelspec": {
   "display_name": "Python 3",
   "language": "python",
   "name": "python3"
  },
  "language_info": {
   "codemirror_mode": {
    "name": "ipython",
    "version": 3
   },
   "file_extension": ".py",
   "mimetype": "text/x-python",
   "name": "python",
   "nbconvert_exporter": "python",
   "pygments_lexer": "ipython3",
   "version": "3.8.5"
  }
 },
 "nbformat": 4,
 "nbformat_minor": 4
}
